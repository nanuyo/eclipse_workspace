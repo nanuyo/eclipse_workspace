{
 "cells": [
  {
   "cell_type": "code",
   "execution_count": 1,
   "metadata": {},
   "outputs": [
    {
     "ename": "SyntaxError",
     "evalue": "invalid syntax (<ipython-input-1-b331fae317a6>, line 34)",
     "output_type": "error",
     "traceback": [
      "\u001b[0;36m  File \u001b[0;32m\"<ipython-input-1-b331fae317a6>\"\u001b[0;36m, line \u001b[0;32m34\u001b[0m\n\u001b[0;31m    print \"Not Enough match found- %d/%d\"%(len(goodMatch),MIN_MATCH_COUNT)\u001b[0m\n\u001b[0m                                        ^\u001b[0m\n\u001b[0;31mSyntaxError\u001b[0m\u001b[0;31m:\u001b[0m invalid syntax\n"
     ]
    }
   ],
   "source": [
    "import cv2\n",
    "import numpy as np\n",
    "detector=cv2.SIFT()\n",
    "FLANN_INDEX_KDITREE=0\n",
    "flannParam=dict(algorithm=FLANN_INDEX_KDITREE,tree=5)\n",
    "flann=cv2.FlannBasedMatcher(flannParam,{})\n",
    "trainImg=cv2.imread(\"eggs1.jpeg\",0)\n",
    "trainKP,trainDesc=detector.detectAndCompute(trainImg,None)\n",
    "\n",
    "cam=cv2.VideoCapture(0)\n",
    "while True:\n",
    "    ret, QueryImgBGR=cam.read()\n",
    "    QueryImg=cv2.cvtColor(QueryImgBGR,cv2.COLOR_BGR2GRAY)\n",
    "    queryKP,queryDesc=detector.detectAndCompute(QueryImg,None)\n",
    "    matches=flann.knnMatch(queryDesc,trainDesc,k=2)\n",
    "\n",
    "    goodMatch=[]\n",
    "    for m,n in matches:\n",
    "        if(m.distance<0.75*n.distance):\n",
    "            goodMatch.append(m)\n",
    "    if(len(goodMatch)>MIN_MATCH_COUNT):\n",
    "        tp=[]\n",
    "        qp=[]\n",
    "        for m in goodMatch:\n",
    "            tp.append(trainKP[m.trainIdx].pt)\n",
    "            qp.append(queryKP[m.queryIdx].pt)\n",
    "        tp,qp=np.float32((tp,qp))\n",
    "        H,status=cv2.findHomography(tp,qp,cv2.RANSAC,3.0)\n",
    "        h,w=trainImg.shape\n",
    "        trainBorder=np.float32([[[0,0],[0,h-1],[w-1,h-1],[w-1,0]]])\n",
    "        queryBorder=cv2.perspectiveTransform(trainBorder,H)\n",
    "        cv2.polylines(QueryImgBGR,[np.int32(queryBorder)],True,(0,255,0),5)\n",
    "    else:\n",
    "        print \"Not Enough match found- %d/%d\"%(len(goodMatch),MIN_MATCH_COUNT)\n",
    "    cv2.imshow('result',QueryImgBGR)\n",
    "    if cv2.waitKey(10)==ord('q'):\n",
    "        break\n",
    "cam.release()\n",
    "cv2.destroyAllWindows()\n",
    " "
   ]
  }
 ],
 "metadata": {
  "kernelspec": {
   "display_name": "Python 3",
   "language": "python",
   "name": "python3"
  },
  "language_info": {
   "codemirror_mode": {
    "name": "ipython",
    "version": 3
   },
   "file_extension": ".py",
   "mimetype": "text/x-python",
   "name": "python",
   "nbconvert_exporter": "python",
   "pygments_lexer": "ipython3",
   "version": "3.5.3"
  }
 },
 "nbformat": 4,
 "nbformat_minor": 2
}
